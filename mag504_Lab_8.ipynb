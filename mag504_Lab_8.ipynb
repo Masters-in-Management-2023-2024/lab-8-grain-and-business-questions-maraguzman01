{
  "cells": [
    {
      "cell_type": "markdown",
      "metadata": {
        "id": "N8vRwarXWfEN"
      },
      "source": [
        "# Diamond Company Analytics Challenge\n",
        "\n",
        "**Time:** 35 minutes\n",
        "\n",
        "**Scenario:** You are the new data analyst at a prestigious diamond company. The CEO has called an urgent meeting and needs answers to critical business questions about the inventory.\n",
        "\n",
        "**Your Mission:** Analyze the diamond inventory data and provide insights to guide strategic decisions."
      ]
    },
    {
      "cell_type": "code",
      "execution_count": null,
      "metadata": {
        "id": "1VlSyjLhWfEN"
      },
      "outputs": [],
      "source": [
        "import polars as pl\n",
        "\n",
        "# Load the diamonds dataset\n",
        "print(\"Loading diamonds dataset...\")\n",
        "df = pl.read_csv('https://raw.githubusercontent.com/pycaret/pycaret/master/datasets/diamond.csv')\n",
        "print(\"Dataset loaded successfully!\")"
      ]
    },
    {
      "cell_type": "markdown",
      "metadata": {
        "id": "F8_naRrqWfEO"
      },
      "source": [
        "## Section 1: Initial Inventory Assessment (5 minutes)\n",
        "\n",
        "The CEO walks in: \"Before we dive into specifics, I need to understand what we're working with. Give me the basics about our inventory database.\""
      ]
    },
    {
      "cell_type": "markdown",
      "metadata": {
        "id": "Crds_j1GWfEO"
      },
      "source": [
        "### Question 1: \"How extensive is our inventory database?\"\n",
        "\n",
        "The CEO needs to know the scale of data you're analyzing."
      ]
    },
    {
      "cell_type": "code",
      "execution_count": 2,
      "metadata": {
        "id": "Ci8Yg6MRWfEO",
        "colab": {
          "base_uri": "https://localhost:8080/"
        },
        "outputId": "ceb02483-be5e-4185-a5f6-3bef16ce6dec"
      },
      "outputs": [
        {
          "output_type": "stream",
          "name": "stdout",
          "text": [
            "Loading diamonds dataset...\n",
            "Dataset loaded successfully!\n",
            "The inventory database contains 6000 rows and 8 columns.\n"
          ]
        }
      ],
      "source": [
        "# Your code here:\n",
        "\n",
        "import polars as pl\n",
        "\n",
        "# Load the diamonds dataset\n",
        "print(\"Loading diamonds dataset...\")\n",
        "df = pl.read_csv('https://raw.githubusercontent.com/pycaret/pycaret/master/datasets/diamond.csv')\n",
        "print(\"Dataset loaded successfully!\")\n",
        "\n",
        "print(f\"The inventory database contains {df.height} rows and {df.width} columns.\")\n"
      ]
    },
    {
      "cell_type": "markdown",
      "metadata": {
        "id": "b2Crcx8vWfEO"
      },
      "source": [
        "### Question 2: \"What information do we track about each diamond?\"\n",
        "\n",
        "List all the characteristics we record."
      ]
    },
    {
      "cell_type": "code",
      "execution_count": 3,
      "metadata": {
        "id": "zrJ_0Pf8WfEP",
        "colab": {
          "base_uri": "https://localhost:8080/"
        },
        "outputId": "d563af71-8703-4a0a-919f-1bebb9494cf0"
      },
      "outputs": [
        {
          "output_type": "stream",
          "name": "stdout",
          "text": [
            "The characteristics we record about each diamond are: \n",
            "- Carat Weight\n",
            "- Cut\n",
            "- Color\n",
            "- Clarity\n",
            "- Polish\n",
            "- Symmetry\n",
            "- Report\n",
            "- Price\n"
          ]
        }
      ],
      "source": [
        "# Your code here:\n",
        "print(\"The characteristics we record about each diamond are: \")\n",
        "\n",
        "for column in df.columns:\n",
        "    print(f\"- {column}\")\n"
      ]
    },
    {
      "cell_type": "markdown",
      "metadata": {
        "id": "_h2qkOWXWfEP"
      },
      "source": [
        "### Question 3: \"When I look at one line in this database, what am I looking at?\"\n",
        "\n",
        "Explain in business terms:"
      ]
    },
    {
      "cell_type": "markdown",
      "metadata": {
        "id": "skYo_r0HWfEP"
      },
      "source": [
        "**Your answer:** Each row represents: Each row represents a single diamond in the inventory, described by weight, color, cut, price, and others. Each row represents basically the complete recorded profile of a single diamond."
      ]
    },
    {
      "cell_type": "markdown",
      "metadata": {
        "id": "t7K7XJIfWfEP"
      },
      "source": [
        "## Section 2: Strategic Business Questions (20 minutes)\n",
        "\n",
        "The CEO continues: \"Now let's get to the important questions. Our board meeting is tomorrow and I need concrete numbers.\""
      ]
    },
    {
      "cell_type": "markdown",
      "metadata": {
        "id": "YK5MaFMeWfEP"
      },
      "source": [
        "### Question 4: \"We're considering expanding our storage facilities. How many total carats do we have in inventory? I need to know if our vaults can handle the weight.\"\n",
        "\n",
        "Think about what measurement would help answer this."
      ]
    },
    {
      "cell_type": "code",
      "execution_count": 7,
      "metadata": {
        "id": "PLRkczY4WfEP",
        "colab": {
          "base_uri": "https://localhost:8080/"
        },
        "outputId": "8195496a-a719-4e0a-dfdb-b657284692c9"
      },
      "outputs": [
        {
          "output_type": "stream",
          "name": "stdout",
          "text": [
            "The total number of carats in inventory is: 8007.\n"
          ]
        }
      ],
      "source": [
        "# Your code here:\n",
        "\n",
        "total_carats = df['Carat Weight'].sum()\n",
        "print(f\"The total number of carats in inventory is: {total_carats:.0f}.\")\n"
      ]
    },
    {
      "cell_type": "markdown",
      "metadata": {
        "id": "mg90ZhjeWfEP"
      },
      "source": [
        "### Question 5: \"Our new marketing campaign claims we have 'the widest variety of cuts in the industry.' Can you verify this?\"\n",
        "\n",
        "The CEO wants to know about variety, not quantity."
      ]
    },
    {
      "cell_type": "code",
      "execution_count": 10,
      "metadata": {
        "id": "eEl2LR09WfEP",
        "colab": {
          "base_uri": "https://localhost:8080/"
        },
        "outputId": "1eaf2635-27a2-4a95-f5bd-6b8d0caa8938"
      },
      "outputs": [
        {
          "output_type": "stream",
          "name": "stdout",
          "text": [
            "The variety of cuts in the inventory are:\n",
            "- Ideal\n",
            "- Signature-Ideal\n",
            "- Very Good\n",
            "- Fair\n",
            "- Good\n",
            "The total number of unique cuts in inventory is: 5.\n"
          ]
        }
      ],
      "source": [
        "# Your code here:\n",
        "\n",
        "unique_cuts = df['Cut'].unique()\n",
        "print(f\"The variety of cuts in the inventory are:\")\n",
        "\n",
        "for cut in unique_cuts:\n",
        "    print(f\"- {cut}\")\n",
        "\n",
        "total_unique_cuts = len(unique_cuts)\n",
        "print(f\"The total number of unique cuts in inventory is: {total_unique_cuts}.\")"
      ]
    },
    {
      "cell_type": "markdown",
      "metadata": {
        "id": "pqrPb6w4WfEP"
      },
      "source": [
        "### Question 6: \"I'm meeting with our insurance company. They need to know our price exposure - what's our most and least valuable diamond?\""
      ]
    },
    {
      "cell_type": "code",
      "execution_count": 12,
      "metadata": {
        "id": "_0PuU2R5WfEQ",
        "colab": {
          "base_uri": "https://localhost:8080/"
        },
        "outputId": "426d3bc1-59ee-4e52-ed34-593761a8c04a"
      },
      "outputs": [
        {
          "output_type": "stream",
          "name": "stdout",
          "text": [
            "The most valuable diamond in inventory is worth: $101561.\n",
            "The least valuable diamond in inventory is worth: $2184.\n"
          ]
        }
      ],
      "source": [
        "# Your code here:\n",
        "\n",
        "min_price = df['Price'].min()\n",
        "max_price = df['Price'].max()\n",
        "\n",
        "print(f\"The most valuable diamond in inventory is worth: ${max_price:.0f}.\")\n",
        "print(f\"The least valuable diamond in inventory is worth: ${min_price:.0f}.\")\n"
      ]
    },
    {
      "cell_type": "markdown",
      "metadata": {
        "id": "yt0YjezyWfEQ"
      },
      "source": [
        "### Question 7: \"Which color grades should we focus on in our premium line? I need typical prices across our color spectrum.\"\n",
        "\n",
        "The CEO wants to understand pricing patterns."
      ]
    },
    {
      "cell_type": "code",
      "execution_count": 15,
      "metadata": {
        "id": "id1a4iiJWfEQ",
        "colab": {
          "base_uri": "https://localhost:8080/"
        },
        "outputId": "f0e10388-d57d-4ebf-d5aa-338b2cbe3062"
      },
      "outputs": [
        {
          "output_type": "stream",
          "name": "stdout",
          "text": [
            "shape: (6, 2)\n",
            "┌───────┬───────────────┐\n",
            "│ Color ┆ Average Price │\n",
            "│ ---   ┆ ---           │\n",
            "│ str   ┆ f64           │\n",
            "╞═══════╪═══════════════╡\n",
            "│ I     ┆ 8989.636364   │\n",
            "│ G     ┆ 12520.050633  │\n",
            "│ F     ┆ 12712.241856  │\n",
            "│ H     ┆ 10487.347544  │\n",
            "│ E     ┆ 11539.190231  │\n",
            "│ D     ┆ 15255.783661  │\n",
            "└───────┴───────────────┘\n"
          ]
        }
      ],
      "source": [
        "# Your code here:\n",
        "\n",
        "average_price_by_color = df.group_by('Color').agg(pl.col('Price').mean().alias('Average Price'))\n",
        "print(average_price_by_color)\n"
      ]
    },
    {
      "cell_type": "markdown",
      "metadata": {
        "id": "MjhaYhgSWfEQ"
      },
      "source": [
        "**Reflection:** After analyzing by color, how has your view of the data changed? What does each row in your result represent now?"
      ]
    },
    {
      "cell_type": "markdown",
      "metadata": {
        "id": "_CafHa7GWfEQ"
      },
      "source": [
        "**Your answer:** New grain = Each row in the result represents the average selling price of all diamonds within a specific color grade in the inventory."
      ]
    },
    {
      "cell_type": "markdown",
      "metadata": {
        "id": "moNqr9UTWfEQ"
      },
      "source": [
        "## Section 3: Advanced Strategic Analysis (10 minutes)\n",
        "\n",
        "The CEO leans forward: \"These next questions will shape our strategy for next year.\""
      ]
    },
    {
      "cell_type": "markdown",
      "metadata": {
        "id": "XzK0boO5WfEQ"
      },
      "source": [
        "### Question 8: \"We're thinking of specializing in certain clarity grades. For our investor deck, I need a complete breakdown showing: how many diamonds we have in each clarity grade, their typical price, and the total carats we're holding for each grade.\""
      ]
    },
    {
      "cell_type": "code",
      "execution_count": 17,
      "metadata": {
        "id": "7HC213j2WfEQ",
        "colab": {
          "base_uri": "https://localhost:8080/"
        },
        "outputId": "06c66635-3daa-412c-d14c-99f680447f69"
      },
      "outputs": [
        {
          "output_type": "stream",
          "name": "stdout",
          "text": [
            "shape: (7, 3)\n",
            "┌─────────┬───────────────┬──────────────┐\n",
            "│ Clarity ┆ Average Price ┆ Total Carats │\n",
            "│ ---     ┆ ---           ┆ ---          │\n",
            "│ str     ┆ f64           ┆ f64          │\n",
            "╞═════════╪═══════════════╪══════════════╡\n",
            "│ VS1     ┆ 13694.113255  ┆ 1682.74      │\n",
            "│ SI1     ┆ 8018.864012   ┆ 2563.69      │\n",
            "│ VVS2    ┆ 14142.177177  ┆ 876.58       │\n",
            "│ VVS1    ┆ 16845.680702  ┆ 389.43       │\n",
            "│ FL      ┆ 63776.0       ┆ 7.87         │\n",
            "│ VS2     ┆ 11809.053333  ┆ 2170.81      │\n",
            "│ IF      ┆ 22105.844749  ┆ 316.0        │\n",
            "└─────────┴───────────────┴──────────────┘\n"
          ]
        }
      ],
      "source": [
        "# Your code here:\n",
        "clarity_stats = (\n",
        "    df.group_by('Clarity')\n",
        "    .agg(\n",
        "        pl.col('Price').mean().alias('Average Price'),\n",
        "        pl.col('Carat Weight').sum().alias('Total Carats')\n",
        "    )\n",
        ")\n",
        "\n",
        "print(clarity_stats)"
      ]
    },
    {
      "cell_type": "markdown",
      "metadata": {
        "id": "Ne8Td_3rWfER"
      },
      "source": [
        "### Question 9: \"My luxury competitor claims they have the best prices for every cut-color combination. Show me our pricing structure across these combinations - I want to see where we're competitive.\""
      ]
    },
    {
      "cell_type": "code",
      "execution_count": 18,
      "metadata": {
        "id": "C4lFjyiiWfER",
        "colab": {
          "base_uri": "https://localhost:8080/"
        },
        "outputId": "c111a6dd-80de-4a12-a1b5-ac5d6b80919b"
      },
      "outputs": [
        {
          "output_type": "stream",
          "name": "stdout",
          "text": [
            "shape: (30, 3)\n",
            "┌─────────────────┬───────┬───────────────┐\n",
            "│ Cut             ┆ Color ┆ Average Price │\n",
            "│ ---             ┆ ---   ┆ ---           │\n",
            "│ str             ┆ str   ┆ f64           │\n",
            "╞═════════════════╪═══════╪═══════════════╡\n",
            "│ Ideal           ┆ G     ┆ 13570.310145  │\n",
            "│ Good            ┆ E     ┆ 8969.545455   │\n",
            "│ Ideal           ┆ E     ┆ 12647.107914  │\n",
            "│ Fair            ┆ I     ┆ 4573.1875     │\n",
            "│ Very Good       ┆ F     ┆ 12413.905495  │\n",
            "│ …               ┆ …     ┆ …             │\n",
            "│ Signature-Ideal ┆ F     ┆ 13247.947368  │\n",
            "│ Fair            ┆ H     ┆ 5908.5        │\n",
            "│ Signature-Ideal ┆ G     ┆ 10248.296875  │\n",
            "│ Very Good       ┆ E     ┆ 12101.910217  │\n",
            "│ Ideal           ┆ F     ┆ 14729.426997  │\n",
            "└─────────────────┴───────┴───────────────┘\n"
          ]
        }
      ],
      "source": [
        "# Your code here:\n",
        "avg_price_by_cut_color = (\n",
        "    df.group_by(['Cut', 'Color'])\n",
        "    .agg(\n",
        "        pl.col('Price').mean().alias('Average Price')\n",
        "    )\n",
        ")\n",
        "\n",
        "print(avg_price_by_cut_color)\n"
      ]
    },
    {
      "cell_type": "markdown",
      "metadata": {
        "id": "9I8GJCczWfER"
      },
      "source": [
        "**Reflection:** How specific is your analysis now? What level of detail does each row represent?"
      ]
    },
    {
      "cell_type": "markdown",
      "metadata": {
        "id": "zp7FY3rgWfER"
      },
      "source": [
        "**Your answer:** New grain ="
      ]
    },
    {
      "cell_type": "markdown",
      "metadata": {
        "id": "kRofMs66WfER"
      },
      "source": [
        "### Question 10: URGENT - \"Our biggest client is interested in purchasing entire inventory segments. They asked: 'Which color-cut combinations represent your highest total inventory value?' Show me the top 5 most valuable inventory segments by total worth, and include how many diamonds are in each segment.\"\n",
        "\n",
        "This is critical for tomorrow's negotiation."
      ]
    },
    {
      "cell_type": "code",
      "execution_count": 19,
      "metadata": {
        "id": "mqBg-xDgWfER",
        "colab": {
          "base_uri": "https://localhost:8080/"
        },
        "outputId": "23cd949f-2503-49ef-85c0-f2201e0cb920"
      },
      "outputs": [
        {
          "output_type": "stream",
          "name": "stdout",
          "text": [
            "shape: (5, 4)\n",
            "┌───────┬───────────┬─────────────┬───────┐\n",
            "│ Color ┆ Cut       ┆ Total Value ┆ Count │\n",
            "│ ---   ┆ ---       ┆ ---         ┆ ---   │\n",
            "│ str   ┆ str       ┆ i64         ┆ u32   │\n",
            "╞═══════╪═══════════╪═════════════╪═══════╡\n",
            "│ G     ┆ Ideal     ┆ 9363514     ┆ 690   │\n",
            "│ G     ┆ Very Good ┆ 7140620     ┆ 578   │\n",
            "│ F     ┆ Very Good ┆ 5648327     ┆ 455   │\n",
            "│ F     ┆ Ideal     ┆ 5346782     ┆ 363   │\n",
            "│ H     ┆ Ideal     ┆ 5279687     ┆ 458   │\n",
            "└───────┴───────────┴─────────────┴───────┘\n"
          ]
        }
      ],
      "source": [
        "# Your code here:\n",
        "\n",
        "#total value and count for each color-cut comb.\n",
        "inventory_value_by_color_cut = (\n",
        "    df.group_by(['Color', 'Cut'])\n",
        "    .agg(\n",
        "        pl.col('Price').sum().alias('Total Value'),\n",
        "        pl.len().alias('Count')\n",
        "    )\n",
        ")\n",
        "\n",
        "#top 5 segments\n",
        "print(inventory_value_by_color_cut.sort('Total Value', descending=True).head(5))"
      ]
    },
    {
      "cell_type": "markdown",
      "metadata": {
        "id": "9rM2eiaDWfER"
      },
      "source": [
        "## Debrief\n",
        "\n",
        "Congratulations! You've just completed your first day as the diamond company's data analyst.\n",
        "\n",
        "Remember:\n",
        "- CEOs speak in business language, not technical terms\n",
        "- Always understand what each row represents before analyzing\n",
        "- Business questions contain clues about which operations to use"
      ]
    }
  ],
  "metadata": {
    "kernelspec": {
      "display_name": "Python 3",
      "language": "python",
      "name": "python3"
    },
    "language_info": {
      "codemirror_mode": {
        "name": "ipython",
        "version": 3
      },
      "file_extension": ".py",
      "mimetype": "text/x-python",
      "name": "python",
      "nbconvert_exporter": "python",
      "pygments_lexer": "ipython3",
      "version": "3.12.0"
    },
    "colab": {
      "provenance": []
    }
  },
  "nbformat": 4,
  "nbformat_minor": 0
}